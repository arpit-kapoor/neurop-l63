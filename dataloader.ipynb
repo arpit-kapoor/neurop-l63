{
 "cells": [
  {
   "cell_type": "code",
   "execution_count": 1,
   "metadata": {},
   "outputs": [],
   "source": [
    "import os\n",
    "import numpy as np\n",
    "import torch\n",
    "import matplotlib.pyplot as plt\n",
    "\n",
    "from torch.utils.data import Dataset, DataLoader"
   ]
  },
  {
   "cell_type": "code",
   "execution_count": 2,
   "metadata": {},
   "outputs": [],
   "source": [
    "class L63Dataset(object):\n",
    "    h = 1e-3\n",
    "    M = 40\n",
    "    Tf = 20\n",
    "    NT = int(Tf/h)\n",
    "    T = np.linspace(0, 20, int(NT/M))[1:].reshape(-1, 1)\n",
    "\n",
    "    def __init__(self, data_path):\n",
    "\n",
    "        # Data path\n",
    "        mesh_path = os.path.join(data_path, 'mesh.npy')\n",
    "        priorpdfn_path = os.path.join(data_path, 'prior.npy')\n",
    "\n",
    "        # Read numpy matrices\n",
    "        mesh = np.load(mesh_path)\n",
    "        priorpdfn = np.load(priorpdfn_path)\n",
    "\n",
    "        # Convert numpy to tensor\n",
    "        self.mesh = torch.from_numpy(mesh).reshape((-1, 3))\n",
    "        self.Nx = self.mesh.shape[0]\n",
    "        \n",
    "        self.ts = torch.from_numpy(self.T)\n",
    "        self.Nt = self.ts.shape[0]\n",
    "        \n",
    "        self.pdf = torch.unsqueeze(torch.from_numpy(priorpdfn), dim=-1)\n",
    "        self.pdf = self.pdf.reshape((self.Nt, self.Nx, 1))\n",
    "\n",
    "\n",
    "    def sample_points(self, n, thresh=1e-4, ratio=0.5):\n",
    "\n",
    "        assert (n<=self.Nx*self.Nt), f'Too many points to sample: {n}>{self.Nx*self.Nt}'\n",
    "\n",
    "        itpos, ixpos, _ = torch.where(self.pdf>=thresh)\n",
    "        itzero, ixzero, _ = torch.where(self.pdf<thresh)\n",
    "\n",
    "        npos = int(np.ceil(ratio*n))\n",
    "        nzero = int(np.floor((1-ratio)*n))\n",
    "\n",
    "        ix = torch.concat([ixpos[torch.randint(len(ixpos), size=(npos,))],\n",
    "                           ixzero[torch.randint(len(ixzero), size=(nzero,))]])\n",
    "        \n",
    "        it = torch.concat([itpos[torch.randint(len(itpos), size=(npos,))],\n",
    "                           itzero[torch.randint(len(itzero), size=(nzero,))]])\n",
    "\n",
    "        xsample = self.mesh[ix]\n",
    "        tsample = self.ts[it]\n",
    "        ysample = self.pdf[it, ix]\n",
    "\n",
    "        return (xsample, tsample), ysample\n"
   ]
  },
  {
   "cell_type": "code",
   "execution_count": 4,
   "metadata": {},
   "outputs": [],
   "source": [
    "data_path = 'data/l63'\n",
    "l63ds = L63Dataset(data_path=data_path)"
   ]
  },
  {
   "cell_type": "code",
   "execution_count": 5,
   "metadata": {},
   "outputs": [
    {
     "data": {
      "text/plain": [
       "(torch.Size([12800, 3]), torch.Size([12800, 1]), torch.Size([12800, 1]))"
      ]
     },
     "execution_count": 5,
     "metadata": {},
     "output_type": "execute_result"
    }
   ],
   "source": [
    "n = 12800\n",
    "(xsample, tsample), ysample = l63ds.sample_points(n, thresh=10.0, ratio=0.6)\n",
    "xsample.shape, tsample.shape, ysample.shape"
   ]
  },
  {
   "cell_type": "code",
   "execution_count": 6,
   "metadata": {},
   "outputs": [
    {
     "data": {
      "image/png": "[encoded data removed]",
      "text/plain": [
       "<Figure size 640x480 with 1 Axes>"
      ]
     },
     "metadata": {},
     "output_type": "display_data"
    }
   ],
   "source": [
    "_ = plt.hist(ysample.flatten(), bins=100)\n",
    "# plt.xscale('log')\n",
    "# plt.yscale('log')"
   ]
  },
  {
   "cell_type": "code",
   "execution_count": null,
   "metadata": {},
   "outputs": [],
   "source": []
  }
 ],
 "metadata": {
  "kernelspec": {
   "display_name": "Python 3",
   "language": "python",
   "name": "python3"
  },
  "language_info": {
   "codemirror_mode": {
    "name": "ipython",
    "version": 3
   },
   "file_extension": ".py",
   "mimetype": "text/x-python",
   "name": "python",
   "nbconvert_exporter": "python",
   "pygments_lexer": "ipython3",
   "version": "3.10.13"
  },
  "orig_nbformat": 4
 },
 "nbformat": 4,
 "nbformat_minor": 2
}
