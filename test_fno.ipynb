{
 "cells": [
  {
   "cell_type": "code",
   "execution_count": 1,
   "metadata": {},
   "outputs": [],
   "source": [
    "import os\n",
    "import numpy as np\n",
    "import torch\n",
    "import torch.nn.functional as F\n",
    "import matplotlib.pyplot as plt\n",
    "\n",
    "from tqdm import tqdm\n",
    "from torch.utils.data import TensorDataset, DataLoader\n",
    "\n",
    "from models.fno import FNO3d\n",
    "from models.lploss import LpLoss"
   ]
  },
  {
   "cell_type": "code",
   "execution_count": 2,
   "metadata": {},
   "outputs": [],
   "source": [
    "data_path = 'data/l63'"
   ]
  },
  {
   "cell_type": "code",
   "execution_count": 3,
   "metadata": {},
   "outputs": [],
   "source": [
    "# Data path\n",
    "mesh_path = os.path.join(data_path, 'mesh.npy')\n",
    "priorpdfn_path = os.path.join(data_path, 'prior.npy')\n",
    "\n",
    "# Read numpy matrices\n",
    "mesh = torch.from_numpy(np.load(mesh_path).reshape((1, 40, 40, 40, 3)))\n",
    "priorpdfn = torch.from_numpy(np.load(priorpdfn_path).reshape((-1, 40, 40, 40, 1)))"
   ]
  },
  {
   "cell_type": "code",
   "execution_count": 4,
   "metadata": {},
   "outputs": [
    {
     "data": {
      "text/plain": [
       "(torch.Size([499, 40, 40, 40, 1]), torch.Size([1, 40, 40, 40, 3]))"
      ]
     },
     "execution_count": 4,
     "metadata": {},
     "output_type": "execute_result"
    }
   ],
   "source": [
    "priorpdfn.shape, mesh.shape"
   ]
  },
  {
   "cell_type": "code",
   "execution_count": 5,
   "metadata": {},
   "outputs": [
    {
     "data": {
      "text/plain": [
       "torch.Size([500, 40, 40, 40, 4])"
      ]
     },
     "execution_count": 5,
     "metadata": {},
     "output_type": "execute_result"
    }
   ],
   "source": [
    "p = torch.concat([priorpdfn, mesh.repeat(499, 1, 1, 1, 1)], dim=-1)\n",
    "p = F.pad(p, (0, 0, 0, 0, 0, 0, 0, 0, 1, 0), 'constant', 0)\n",
    "p.shape"
   ]
  },
  {
   "cell_type": "code",
   "execution_count": 6,
   "metadata": {},
   "outputs": [],
   "source": [
    "mode1 = 10\n",
    "mode2 = 10\n",
    "mode3 = 10\n",
    "width = 36\n",
    "model = FNO3d(mode1, mode2, mode3, width)"
   ]
  },
  {
   "cell_type": "code",
   "execution_count": 7,
   "metadata": {},
   "outputs": [],
   "source": [
    "def get_dataset(p, n_steps=10):\n",
    "    xs = []\n",
    "    ys = []\n",
    "    for i in range(0, p.shape[0]-n_steps):\n",
    "        xs.append(p[i])\n",
    "        ys.append(p[i+n_steps, ..., 0].unsqueeze(-1))\n",
    "    x = torch.stack(xs, dim=0)\n",
    "    y = torch.stack(ys, dim=0)\n",
    "    return TensorDataset(x, y)"
   ]
  },
  {
   "cell_type": "code",
   "execution_count": 8,
   "metadata": {},
   "outputs": [],
   "source": [
    "full_ds = get_dataset(p, n_steps=5)\n",
    "train_size = int(0.8 * len(full_ds))\n",
    "test_size = len(full_ds) - train_size\n",
    "train_ds, test_ds = torch.utils.data.random_split(full_ds, \n",
    "                                                  [train_size, test_size])\n"
   ]
  },
  {
   "cell_type": "code",
   "execution_count": 9,
   "metadata": {},
   "outputs": [],
   "source": [
    "batch_size = 8\n",
    "train_dl = DataLoader(train_ds, batch_size=batch_size, shuffle=True)\n",
    "test_dl = DataLoader(test_ds, batch_size=batch_size, shuffle=True)"
   ]
  },
  {
   "cell_type": "code",
   "execution_count": 10,
   "metadata": {},
   "outputs": [
    {
     "data": {
      "text/plain": [
       "0.001"
      ]
     },
     "execution_count": 10,
     "metadata": {},
     "output_type": "execute_result"
    }
   ],
   "source": [
    "epochs = 50\n",
    "e_start = 0\n",
    "learning_rate = 0.001\n",
    "scheduler_step = 4\n",
    "scheduler_gamma = 0.85\n",
    "learning_rate"
   ]
  },
  {
   "cell_type": "code",
   "execution_count": 11,
   "metadata": {},
   "outputs": [],
   "source": [
    "optimizer = torch.optim.Adam(model.parameters(), lr=learning_rate, weight_decay=1e-4)\n",
    "scheduler = torch.optim.lr_scheduler.StepLR(optimizer, step_size=scheduler_step, gamma=scheduler_gamma)\n",
    "myloss = LpLoss(size_average=False)"
   ]
  },
  {
   "cell_type": "code",
   "execution_count": 12,
   "metadata": {},
   "outputs": [
    {
     "name": "stdout",
     "output_type": "stream",
     "text": [
      "epoch: 1, batch: 10/50, train loss: 0.9962\n",
      "epoch: 1, batch: 20/50, train loss: 0.9883\n",
      "epoch: 1, batch: 30/50, train loss: 0.9832\n",
      "epoch: 1, batch: 40/50, train loss: 0.9736\n",
      "epoch: 1, batch: 50/50, train loss: 0.4801\n",
      "epoch: 1, train loss: 7.7964\n",
      "epoch: 2, batch: 10/50, train loss: 0.9580\n",
      "epoch: 2, batch: 20/50, train loss: 0.9524\n",
      "epoch: 2, batch: 30/50, train loss: 0.9006\n",
      "epoch: 2, batch: 40/50, train loss: 0.9096\n",
      "epoch: 2, batch: 50/50, train loss: 0.4031\n",
      "epoch: 2, train loss: 7.1181\n",
      "epoch: 3, batch: 10/50, train loss: 0.7348\n",
      "epoch: 3, batch: 20/50, train loss: 0.7332\n",
      "epoch: 3, batch: 30/50, train loss: 0.7152\n",
      "epoch: 3, batch: 40/50, train loss: 0.5432\n",
      "epoch: 3, batch: 50/50, train loss: 0.3024\n",
      "epoch: 3, train loss: 5.1304\n",
      "epoch: 4, batch: 10/50, train loss: 0.3083\n",
      "epoch: 4, batch: 20/50, train loss: 0.4711\n",
      "epoch: 4, batch: 30/50, train loss: 0.4791\n",
      "epoch: 4, batch: 40/50, train loss: 0.4380\n",
      "epoch: 4, batch: 50/50, train loss: 0.3351\n",
      "epoch: 4, train loss: 4.1128\n",
      "epoch: 5, batch: 10/50, train loss: 0.6394\n",
      "epoch: 5, batch: 20/50, train loss: 0.6756\n",
      "epoch: 5, batch: 30/50, train loss: 0.4286\n",
      "epoch: 5, batch: 40/50, train loss: 0.4623\n",
      "epoch: 5, batch: 50/50, train loss: 0.1262\n",
      "epoch: 5, train loss: 4.0878\n",
      "epoch: 6, batch: 10/50, train loss: 0.3864\n",
      "epoch: 6, batch: 20/50, train loss: 0.5532\n",
      "epoch: 6, batch: 30/50, train loss: 0.2921\n",
      "epoch: 6, batch: 40/50, train loss: 0.5870\n",
      "epoch: 6, batch: 50/50, train loss: 0.2115\n",
      "epoch: 6, train loss: 4.0716\n",
      "epoch: 7, batch: 10/50, train loss: 0.4745\n",
      "epoch: 7, batch: 20/50, train loss: 0.5554\n",
      "epoch: 7, batch: 30/50, train loss: 0.6973\n"
     ]
    },
    {
     "ename": "KeyboardInterrupt",
     "evalue": "",
     "output_type": "error",
     "traceback": [
      "\u001b[0;31m---------------------------------------------------------------------------\u001b[0m",
      "\u001b[0;31mKeyboardInterrupt\u001b[0m                         Traceback (most recent call last)",
      "\u001b[1;32m/Users/akap5486/Library/CloudStorage/OneDrive-UNSW/Shared/Projects/PhD/neurop-l63/test_fno.ipynb Cell 12\u001b[0m line \u001b[0;36m2\n\u001b[1;32m     <a href='vscode-notebook-cell:/Users/akap5486/Library/CloudStorage/OneDrive-UNSW/Shared/Projects/PhD/neurop-l63/test_fno.ipynb#X16sZmlsZQ%3D%3D?line=16'>17</a>\u001b[0m ori_loss \u001b[39m+\u001b[39m\u001b[39m=\u001b[39m myloss(pred\u001b[39m.\u001b[39mreshape(num_examples, \u001b[39m-\u001b[39m\u001b[39m1\u001b[39m), \n\u001b[1;32m     <a href='vscode-notebook-cell:/Users/akap5486/Library/CloudStorage/OneDrive-UNSW/Shared/Projects/PhD/neurop-l63/test_fno.ipynb#X16sZmlsZQ%3D%3D?line=17'>18</a>\u001b[0m                    y\u001b[39m.\u001b[39mreshape(num_examples, \u001b[39m-\u001b[39m\u001b[39m1\u001b[39m))\n\u001b[1;32m     <a href='vscode-notebook-cell:/Users/akap5486/Library/CloudStorage/OneDrive-UNSW/Shared/Projects/PhD/neurop-l63/test_fno.ipynb#X16sZmlsZQ%3D%3D?line=19'>20</a>\u001b[0m loss \u001b[39m=\u001b[39m ori_loss\n\u001b[0;32m---> <a href='vscode-notebook-cell:/Users/akap5486/Library/CloudStorage/OneDrive-UNSW/Shared/Projects/PhD/neurop-l63/test_fno.ipynb#X16sZmlsZQ%3D%3D?line=21'>22</a>\u001b[0m loss\u001b[39m.\u001b[39;49mbackward()\n\u001b[1;32m     <a href='vscode-notebook-cell:/Users/akap5486/Library/CloudStorage/OneDrive-UNSW/Shared/Projects/PhD/neurop-l63/test_fno.ipynb#X16sZmlsZQ%3D%3D?line=22'>23</a>\u001b[0m optimizer\u001b[39m.\u001b[39mstep()\n\u001b[1;32m     <a href='vscode-notebook-cell:/Users/akap5486/Library/CloudStorage/OneDrive-UNSW/Shared/Projects/PhD/neurop-l63/test_fno.ipynb#X16sZmlsZQ%3D%3D?line=23'>24</a>\u001b[0m train_l2 \u001b[39m+\u001b[39m\u001b[39m=\u001b[39m loss\u001b[39m.\u001b[39mitem()\n",
      "File \u001b[0;32m~/miniconda3/envs/neurop/lib/python3.10/site-packages/torch/_tensor.py:487\u001b[0m, in \u001b[0;36mTensor.backward\u001b[0;34m(self, gradient, retain_graph, create_graph, inputs)\u001b[0m\n\u001b[1;32m    477\u001b[0m \u001b[39mif\u001b[39;00m has_torch_function_unary(\u001b[39mself\u001b[39m):\n\u001b[1;32m    478\u001b[0m     \u001b[39mreturn\u001b[39;00m handle_torch_function(\n\u001b[1;32m    479\u001b[0m         Tensor\u001b[39m.\u001b[39mbackward,\n\u001b[1;32m    480\u001b[0m         (\u001b[39mself\u001b[39m,),\n\u001b[0;32m   (...)\u001b[0m\n\u001b[1;32m    485\u001b[0m         inputs\u001b[39m=\u001b[39minputs,\n\u001b[1;32m    486\u001b[0m     )\n\u001b[0;32m--> 487\u001b[0m torch\u001b[39m.\u001b[39;49mautograd\u001b[39m.\u001b[39;49mbackward(\n\u001b[1;32m    488\u001b[0m     \u001b[39mself\u001b[39;49m, gradient, retain_graph, create_graph, inputs\u001b[39m=\u001b[39;49minputs\n\u001b[1;32m    489\u001b[0m )\n",
      "File \u001b[0;32m~/miniconda3/envs/neurop/lib/python3.10/site-packages/torch/autograd/__init__.py:200\u001b[0m, in \u001b[0;36mbackward\u001b[0;34m(tensors, grad_tensors, retain_graph, create_graph, grad_variables, inputs)\u001b[0m\n\u001b[1;32m    195\u001b[0m     retain_graph \u001b[39m=\u001b[39m create_graph\n\u001b[1;32m    197\u001b[0m \u001b[39m# The reason we repeat same the comment below is that\u001b[39;00m\n\u001b[1;32m    198\u001b[0m \u001b[39m# some Python versions print out the first line of a multi-line function\u001b[39;00m\n\u001b[1;32m    199\u001b[0m \u001b[39m# calls in the traceback and some print out the last line\u001b[39;00m\n\u001b[0;32m--> 200\u001b[0m Variable\u001b[39m.\u001b[39;49m_execution_engine\u001b[39m.\u001b[39;49mrun_backward(  \u001b[39m# Calls into the C++ engine to run the backward pass\u001b[39;49;00m\n\u001b[1;32m    201\u001b[0m     tensors, grad_tensors_, retain_graph, create_graph, inputs,\n\u001b[1;32m    202\u001b[0m     allow_unreachable\u001b[39m=\u001b[39;49m\u001b[39mTrue\u001b[39;49;00m, accumulate_grad\u001b[39m=\u001b[39;49m\u001b[39mTrue\u001b[39;49;00m)\n",
      "\u001b[0;31mKeyboardInterrupt\u001b[0m: "
     ]
    }
   ],
   "source": [
    "train_l2 = 0.0\n",
    "for ep in range(1,epochs+1):\n",
    "    model.train()\n",
    "    train_l2 = 0\n",
    "    counter = 0\n",
    "    for x, y in train_dl:\n",
    "        \n",
    "        optimizer.zero_grad()\n",
    "    \n",
    "        pred = model(x)\n",
    "        ori_loss = 0\n",
    "\n",
    "        num_examples = x.shape[0]\n",
    "        \n",
    "        # original loss\n",
    "        # for i in range(batch_size):\n",
    "        ori_loss += myloss(pred.reshape(num_examples, -1), \n",
    "                           y.reshape(num_examples, -1))\n",
    "\n",
    "        loss = ori_loss\n",
    "        \n",
    "        loss.backward()\n",
    "        optimizer.step()\n",
    "        train_l2 += loss.item()\n",
    "\n",
    "        counter += 1\n",
    "        if counter % 10 == 0:\n",
    "            print(f'epoch: {ep}, batch: {counter}/{len(train_dl)}, train loss: {loss.item()/batch_size:.4f}')\n",
    "        \n",
    "    scheduler.step()\n",
    "\n",
    "    print(f'epoch: {ep}, train loss: {train_l2/len(train_size):.4f}')\n",
    "    \n",
    "    # lr_ = optimizer.param_groups[0]['lr']\n",
    "    # if ep % 2 == 0:\n",
    "    #     PATH = f'saved_models/dP_UFNO_{ep}ep_{width}width_{mode1}m1_{mode2}m2_{train_a.shape[0]}train_{lr_:.2e}lr'\n",
    "    #     torch.save(model, PATH)"
   ]
  }
 ],
 "metadata": {
  "kernelspec": {
   "display_name": "neurop",
   "language": "python",
   "name": "python3"
  },
  "language_info": {
   "codemirror_mode": {
    "name": "ipython",
    "version": 3
   },
   "file_extension": ".py",
   "mimetype": "text/x-python",
   "name": "python",
   "nbconvert_exporter": "python",
   "pygments_lexer": "ipython3",
   "version": "3.10.13"
  },
  "orig_nbformat": 4
 },
 "nbformat": 4,
 "nbformat_minor": 2
}
